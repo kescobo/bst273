{
 "cells": [
  {
   "cell_type": "markdown",
   "metadata": {},
   "source": [
    "# Collections and Iterators\n",
    "\n",
    "## Outline\n",
    "\n",
    "- Collections of data\n",
    "- Lists (ordered collections)\n",
    "- Dictionaries (referenced collection)\n",
    "- Sets (unordered collection of unique values)\n",
    "- Iterators and loops\n",
    "\n",
    "## Learning Objectives\n",
    "\n",
    "After completing this lesson, you should be able to:\n",
    "\n",
    "1. Explain the differences between lists, dictionaries and sets.\n",
    "2. Identify the best collection type for a particular application.\n",
    "3. Iterate over a collection and modify the contents.\n",
    "4. Write a function that modifies a list.\n",
    "\n",
    "## Review of scalars\n",
    "\n",
    "Integers and floats represent numbers."
   ]
  },
  {
   "cell_type": "code",
   "execution_count": null,
   "metadata": {},
   "outputs": [],
   "source": [
    "integer  = 2 + 2"
   ]
  },
  {
   "cell_type": "code",
   "execution_count": null,
   "metadata": {},
   "outputs": [],
   "source": [
    "flt = 26.7 * 0.15"
   ]
  },
  {
   "cell_type": "markdown",
   "metadata": {},
   "source": [
    "### Strings are sequences of characters"
   ]
  },
  {
   "cell_type": "code",
   "execution_count": null,
   "metadata": {},
   "outputs": [],
   "source": [
    "st = 'How' + ' ' + 'now' + ' ' + 'brown' + ' ' + 'cow' + '?'"
   ]
  },
  {
   "cell_type": "markdown",
   "metadata": {},
   "source": [
    "## Collections are groups of related objects\n",
    "\n",
    "- The contents of collections can be scalars of different types, or even other collections\n",
    "- The best type of collection depends on the application\n",
    "    - Does the content have an order?\n",
    "    - How do you plan to access the content?\n",
    "- \"Data Structures\" represent an entire CS course... there are many other collection types than what we'll discuss here\n",
    "\n",
    "### Common features of collections\n",
    "\n",
    "- they may contain 0 or more entries (they can be empty)\n",
    "    - entries can be scalars or other collections\n",
    "- they are iterable (`for` loops touch each entry exactly once)\n",
    "- they are mutable (you can add, remove, or modify entries)\n",
    "- they are indexable (you can access individual entries with a unique \"index\")\n",
    "\n",
    "## Lists (vectors) are ordered collections"
   ]
  },
  {
   "cell_type": "code",
   "execution_count": null,
   "metadata": {},
   "outputs": [],
   "source": [
    "my_list = [1, 'z', 2.4, 42, 1]\n",
    "my_list"
   ]
  },
  {
   "cell_type": "markdown",
   "metadata": {},
   "source": [
    "Iterating through a list returns the elements of the list in order"
   ]
  },
  {
   "cell_type": "code",
   "execution_count": null,
   "metadata": {},
   "outputs": [],
   "source": [
    "for element in my_list:\n",
    "    print(element)"
   ]
  },
  {
   "cell_type": "markdown",
   "metadata": {},
   "source": [
    "### List \"indexing\"\n",
    "\n",
    "We can also access items at particular locations in the list.\n",
    "\n",
    "WARNING: in python, counting starts at `0`, not `1`.\n",
    "In other words, to get the **third** element in `my_list`:"
   ]
  },
  {
   "cell_type": "code",
   "execution_count": null,
   "metadata": {},
   "outputs": [],
   "source": [
    "my_list"
   ]
  },
  {
   "cell_type": "code",
   "execution_count": null,
   "metadata": {},
   "outputs": [],
   "source": [
    "my_list[2]"
   ]
  },
  {
   "cell_type": "markdown",
   "metadata": {},
   "source": [
    "Like a variable, we can perform operations on the items in a list."
   ]
  },
  {
   "cell_type": "code",
   "execution_count": null,
   "metadata": {},
   "outputs": [],
   "source": [
    "my_list[2] * 4"
   ]
  },
  {
   "cell_type": "markdown",
   "metadata": {},
   "source": [
    "### Figuring out how many elements are in a list\n",
    "\n",
    "The `len()` function (\"length\") tells us how many items are in a list."
   ]
  },
  {
   "cell_type": "code",
   "execution_count": null,
   "metadata": {},
   "outputs": [],
   "source": [
    "len(my_list)"
   ]
  },
  {
   "cell_type": "markdown",
   "metadata": {},
   "source": [
    "You may be tempted to use len to get the last item in the list..."
   ]
  },
  {
   "cell_type": "code",
   "execution_count": null,
   "metadata": {},
   "outputs": [],
   "source": [
    "list_length = len(my_list)\n",
    "my_list[list_length]"
   ]
  },
  {
   "cell_type": "markdown",
   "metadata": {},
   "source": [
    "This error is telling us that the `index` (in this case `5`) is \"out of range.\"\n",
    "In other words, the index `5` is \"off the end\" of the list.\n",
    "This is because python counts from 0...\n",
    "a list with `len(list) == 5` has indices `[0,1,2,3,4]`.\n",
    "\n",
    "### Getting the last element in a list"
   ]
  },
  {
   "cell_type": "code",
   "execution_count": null,
   "metadata": {},
   "outputs": [],
   "source": [
    "my_list[-1]"
   ]
  },
  {
   "cell_type": "markdown",
   "metadata": {},
   "source": [
    "### Modiying lists\n",
    "\n",
    "Lists are \"mutable\", meaning we can change them."
   ]
  },
  {
   "cell_type": "code",
   "execution_count": null,
   "metadata": {},
   "outputs": [],
   "source": [
    "my_list[1] = 10\n",
    "my_list"
   ]
  },
  {
   "cell_type": "code",
   "execution_count": null,
   "metadata": {},
   "outputs": [],
   "source": [
    "my_list.append('a new entry')\n",
    "my_list"
   ]
  },
  {
   "cell_type": "code",
   "execution_count": null,
   "metadata": {},
   "outputs": [],
   "source": [
    "my_list.insert(4, 'another new entry')\n",
    "my_list"
   ]
  },
  {
   "cell_type": "markdown",
   "metadata": {},
   "source": [
    "### A quick aside\n",
    "\n",
    "Don't forget to google!\n",
    "\n",
    "\"How do I add something to a list in python?\"\n",
    "\n",
    "**Question 1**\n",
    "\n",
    "Remove all of the strings from the list `my_list2`:"
   ]
  },
  {
   "cell_type": "code",
   "execution_count": null,
   "metadata": {},
   "outputs": [],
   "source": [
    "my_list2 = ['a', 20, 2.3, 4.9, 'b', 7]"
   ]
  },
  {
   "cell_type": "code",
   "execution_count": null,
   "metadata": {
    "attributes": {
     "classes": [
      "py"
     ],
     "id": ""
    }
   },
   "outputs": [],
   "source": [
    "# use this cell to figure out the code, then copy and paste it\n",
    "# into the answer box in the quiz"
   ]
  },
  {
   "cell_type": "markdown",
   "metadata": {},
   "source": [
    "### \"Slices\" are ranges of indices\n",
    "\n",
    "Select multiple values using `:`"
   ]
  },
  {
   "cell_type": "code",
   "execution_count": null,
   "metadata": {},
   "outputs": [],
   "source": [
    "l3 = [10, 20, 30, 40, 50]\n",
    "l3[2:4]"
   ]
  },
  {
   "cell_type": "markdown",
   "metadata": {},
   "source": [
    "Select from one value to the end:"
   ]
  },
  {
   "cell_type": "code",
   "execution_count": null,
   "metadata": {},
   "outputs": [],
   "source": [
    "l3[3:]"
   ]
  },
  {
   "cell_type": "markdown",
   "metadata": {},
   "source": [
    "## Dictionaries are unordered collections with arbitrary indices\n",
    "\n",
    "The indices are called \"keys\",\n",
    "and the objects referenced by keys are the \"values\"."
   ]
  },
  {
   "cell_type": "code",
   "execution_count": null,
   "metadata": {},
   "outputs": [],
   "source": [
    "my_dict = {\"Ada\": 0, \"Bodhidharma\": 1, \"César\": 2}\n",
    "my_dict"
   ]
  },
  {
   "cell_type": "markdown",
   "metadata": {},
   "source": [
    "Entries (values) in a dict are accessed by their keys"
   ]
  },
  {
   "cell_type": "code",
   "execution_count": null,
   "metadata": {},
   "outputs": [],
   "source": [
    "my_dict[\"Ada\"]"
   ]
  },
  {
   "cell_type": "markdown",
   "metadata": {},
   "source": [
    "### Iterating through a dictionary provides keys"
   ]
  },
  {
   "cell_type": "code",
   "execution_count": null,
   "metadata": {},
   "outputs": [],
   "source": [
    "for k in my_dict:\n",
    "    print(k)"
   ]
  },
  {
   "cell_type": "markdown",
   "metadata": {},
   "source": [
    "Or you can iterate through values using keys:"
   ]
  },
  {
   "cell_type": "code",
   "execution_count": null,
   "metadata": {},
   "outputs": [],
   "source": [
    "for k in my_dict:\n",
    "    print(my_dict[k])"
   ]
  },
  {
   "cell_type": "markdown",
   "metadata": {},
   "source": [
    "### You can get lists of keys and values using the `.keys()` and `.values()` methods"
   ]
  },
  {
   "cell_type": "code",
   "execution_count": null,
   "metadata": {},
   "outputs": [],
   "source": [
    "my_dict.keys()"
   ]
  },
  {
   "cell_type": "code",
   "execution_count": null,
   "metadata": {},
   "outputs": [],
   "source": [
    "my_dict.values()"
   ]
  },
  {
   "cell_type": "markdown",
   "metadata": {},
   "source": [
    "### A quick note on formatting\n",
    "\n",
    "- One can often take advantage of python's syntax to make code more readable\n",
    "- For example, spaces after commas, opening brackets etc are ignored"
   ]
  },
  {
   "cell_type": "code",
   "execution_count": null,
   "metadata": {},
   "outputs": [],
   "source": [
    "my_dict_formatted = {\n",
    "    \"Ada\": 0,\n",
    "    \"Bodhidharma\": 1,\n",
    "    \"César\": 2\n",
    "    }\n",
    "\n",
    "my_dict == my_dict_formatted"
   ]
  },
  {
   "cell_type": "markdown",
   "metadata": {},
   "source": [
    "or"
   ]
  },
  {
   "cell_type": "code",
   "execution_count": null,
   "metadata": {},
   "outputs": [],
   "source": [
    "my_dict_formatted = {\n",
    "    \"Ada\"         : 0,\n",
    "    \"Bodhidharma\" : 1,\n",
    "    \"César\"       : 2\n",
    "    }\n",
    "\n",
    "my_dict == my_dict_formatted"
   ]
  },
  {
   "cell_type": "markdown",
   "metadata": {},
   "source": [
    "### The order of keys and values does not matter"
   ]
  },
  {
   "cell_type": "code",
   "execution_count": null,
   "metadata": {},
   "outputs": [],
   "source": [
    "dict2 = {\n",
    "    \"Bodhidharma\" : 1,\n",
    "    \"César\"       : 2,\n",
    "    \"Ada\"         : 0,\n",
    "    }\n",
    "dict2 == my_dict"
   ]
  },
  {
   "cell_type": "markdown",
   "metadata": {},
   "source": [
    "### Dictionary entries can be added, modified, or deleted"
   ]
  },
  {
   "cell_type": "code",
   "execution_count": null,
   "metadata": {},
   "outputs": [],
   "source": [
    "my_dict[\"Kevin\"] = 3\n",
    "my_dict"
   ]
  },
  {
   "cell_type": "code",
   "execution_count": null,
   "metadata": {},
   "outputs": [],
   "source": [
    "my_dict[\"Bodhidharma\"] = 0 # Will this change the value of `my_dict[\"Ada\"]`?\n",
    "my_dict"
   ]
  },
  {
   "cell_type": "code",
   "execution_count": null,
   "metadata": {},
   "outputs": [],
   "source": [
    "my_dict.pop(\"Kevin\")\n",
    "my_dict"
   ]
  },
  {
   "cell_type": "markdown",
   "metadata": {},
   "source": [
    "## Sets are unordered collections with uniue entries"
   ]
  },
  {
   "cell_type": "code",
   "execution_count": null,
   "metadata": {},
   "outputs": [],
   "source": [
    "my_set = {1,2,1,2,1,2}\n",
    "my_set"
   ]
  },
  {
   "cell_type": "code",
   "execution_count": null,
   "metadata": {},
   "outputs": [],
   "source": [
    "my_set == {2, 1}"
   ]
  },
  {
   "cell_type": "markdown",
   "metadata": {},
   "source": [
    "### Sets cannot be indexed"
   ]
  },
  {
   "cell_type": "code",
   "execution_count": null,
   "metadata": {},
   "outputs": [],
   "source": [
    "my_set[1]"
   ]
  },
  {
   "cell_type": "markdown",
   "metadata": {},
   "source": [
    "But you *can* iterate through them:"
   ]
  },
  {
   "cell_type": "code",
   "execution_count": null,
   "metadata": {},
   "outputs": [],
   "source": [
    "for entry in my_set:\n",
    "    print(entry)"
   ]
  },
  {
   "cell_type": "markdown",
   "metadata": {},
   "source": [
    "### Pay attention to the (lack of) ordering"
   ]
  },
  {
   "cell_type": "code",
   "execution_count": null,
   "metadata": {},
   "outputs": [],
   "source": [
    "for entry in {3,2,1,\"2\"}:\n",
    "    print(type(entry))\n",
    "    print(entry)"
   ]
  },
  {
   "cell_type": "markdown",
   "metadata": {},
   "source": [
    "### Sets have some useful functions for comparison"
   ]
  },
  {
   "cell_type": "code",
   "execution_count": null,
   "metadata": {},
   "outputs": [],
   "source": [
    "s1 = {'a','b','c','d'}\n",
    "s2 = {'b','c','d','e'}\n",
    "\n",
    "s1.intersection(s2) # or s1 & s2"
   ]
  },
  {
   "cell_type": "code",
   "execution_count": null,
   "metadata": {},
   "outputs": [],
   "source": [
    "s1.difference(s2) # or s1 - s2"
   ]
  },
  {
   "cell_type": "code",
   "execution_count": null,
   "metadata": {},
   "outputs": [],
   "source": [
    "s1.union(s2) # or s1 | s2"
   ]
  },
  {
   "cell_type": "markdown",
   "metadata": {},
   "source": [
    "NOTE: Set theory is [a whole thing][1] - useful but beyond the scope of this course.\n",
    "\n",
    "[1]: https://en.wikipedia.org/wiki/Set_theory\n",
    "\n",
    "### Excercise: other useful set functions\n",
    "\n",
    "**What values of `my_other_set` will return `True` for the following functions:**"
   ]
  },
  {
   "cell_type": "code",
   "execution_count": null,
   "metadata": {},
   "outputs": [],
   "source": [
    "my_first_set = {'Ada', 'Bodhidharma', 'César'}\n",
    "my_other_set_1 = { } # put at least one string in this set to make the following return True\n",
    "\n",
    "my_first_set.issuperset(my_other_set_1)"
   ]
  },
  {
   "cell_type": "code",
   "execution_count": null,
   "metadata": {},
   "outputs": [],
   "source": [
    "my_first_set = {'Ada', 'Bodhidharma', 'César'}\n",
    "my_other_set_2 = { } # put at least one string in this set to make the following return True\n",
    "\n",
    "my_first_set.issubset(my_other_set_2)"
   ]
  },
  {
   "cell_type": "markdown",
   "metadata": {},
   "source": [
    "### Set operations can be used to compare other collections"
   ]
  },
  {
   "cell_type": "code",
   "execution_count": null,
   "metadata": {},
   "outputs": [],
   "source": [
    "one_more_list = ['a', 'b', 'c', 'd', 'a', 'b']\n",
    "yet_another_list = ['c', 'd', 'b']\n",
    "\n",
    "set(one_more_list).union( set(yet_another_list) )"
   ]
  },
  {
   "cell_type": "markdown",
   "metadata": {},
   "source": [
    "### Excercise: using set operations\n",
    "\n",
    "**What will the return value of the following expression be?**"
   ]
  },
  {
   "cell_type": "code",
   "execution_count": null,
   "metadata": {},
   "outputs": [],
   "source": [
    "a_dict = {\"Emma\"    : \"TA\",\n",
    "          \"Eric\"    : \"instructor\",\n",
    "          \"Kevin\"   : \"instructor\",\n",
    "          \"Marina\"  : \"TA\",\n",
    "          \"Shirley\" : \"TA\"}\n",
    "\n",
    "roles = {\"instructor\", \"TA\", \"student\"}\n",
    "\n",
    "roles.difference( set( a_dict.keys() ) )"
   ]
  },
  {
   "cell_type": "markdown",
   "metadata": {},
   "source": [
    "## Strings are weird\n",
    "\n",
    "Remember how I said strings can act like scalars or collections of characters?"
   ]
  },
  {
   "cell_type": "code",
   "execution_count": null,
   "metadata": {},
   "outputs": [],
   "source": [
    "set(\"banana\")"
   ]
  },
  {
   "cell_type": "code",
   "execution_count": null,
   "metadata": {},
   "outputs": [],
   "source": [
    "for c in \"What's happening?\":\n",
    "    print(c)"
   ]
  },
  {
   "cell_type": "markdown",
   "metadata": {},
   "source": [
    "## Comprehensions\n",
    "\n",
    "\"Comprehensions\" are ways to generate collections (lists, dicts, sets) etc\n",
    "with less typing. The syntax is similar to a `for` loop:"
   ]
  },
  {
   "cell_type": "code",
   "execution_count": null,
   "metadata": {},
   "outputs": [],
   "source": [
    "for i in range(5):\n",
    "    print(i)"
   ]
  },
  {
   "cell_type": "code",
   "execution_count": null,
   "metadata": {},
   "outputs": [],
   "source": [
    "[i for i in range(5)]"
   ]
  },
  {
   "cell_type": "code",
   "execution_count": null,
   "metadata": {},
   "outputs": [],
   "source": [
    "[i ** 2 for i in range(5)]"
   ]
  },
  {
   "cell_type": "markdown",
   "metadata": {},
   "source": [
    "### Sets and dictionaries can also be made with comprehensions"
   ]
  },
  {
   "cell_type": "code",
   "execution_count": null,
   "metadata": {},
   "outputs": [],
   "source": [
    "{i % 3 for i in range(20)} # what does the % operator do? use google!"
   ]
  },
  {
   "cell_type": "code",
   "execution_count": null,
   "metadata": {},
   "outputs": [],
   "source": [
    "letters = \"abcdefghijklmnopqrstuvwxyz\"\n",
    "\n",
    "{l: n for l, n in zip(letters, range(26))}"
   ]
  },
  {
   "cell_type": "markdown",
   "metadata": {},
   "source": [
    "### How does zip work?\n",
    "\n",
    "[RTFM = Read the manual][2]\n",
    "[RTFD = Read the docs][2]\n",
    "\n",
    "[2]: https://docs.python.org/3/library/functions.html#zip"
   ]
  },
  {
   "cell_type": "code",
   "execution_count": null,
   "metadata": {},
   "outputs": [],
   "source": [
    "for i1, i2 in zip([1,2,3,4,5], 'abcde'):\n",
    "    print(i1)\n",
    "    print(\" \", i2)"
   ]
  },
  {
   "cell_type": "markdown",
   "metadata": {},
   "source": [
    "## X of Ys - nested collections\n",
    "\n",
    "- So far, all of our collections have held scalars\n",
    "- But collections can hold other collections too\n",
    "- For example, you can have a list of lists, or a dict of sets\n",
    "    - Generally speaking - it's not a good idea to have the `key`s of dicts be collections"
   ]
  },
  {
   "cell_type": "code",
   "execution_count": null,
   "metadata": {},
   "outputs": [],
   "source": [
    "teaching_staff = {\n",
    "    \"Eric\"  : {\n",
    "        \"position\" : \"instructor\",\n",
    "        \"e-mail\"   : \"eric.franzosa@hsph.harvard.edu\",\n",
    "        \"lectures\" : [1,2,5,6,8,11,13,14,15]\n",
    "        },\n",
    "    \"Kevin\" : {\n",
    "        \"position\" : \"instructor\",\n",
    "        \"e-mail\"   : \"kbonham@broadinstitute.org\",\n",
    "        \"lectures\" : [3,4,7]\n",
    "        }\n",
    "    }\n",
    "\n",
    "teaching_staff[\"Eric\"][\"e-mail\"]"
   ]
  },
  {
   "cell_type": "code",
   "execution_count": null,
   "metadata": {},
   "outputs": [],
   "source": []
  }
 ],
 "metadata": {
  "kernelspec": {
   "display_name": "Python 3",
   "language": "python",
   "name": "python3"
  },
  "language_info": {
   "codemirror_mode": {
    "name": "ipython",
    "version": 3
   },
   "file_extension": ".py",
   "mimetype": "text/x-python",
   "name": "python",
   "nbconvert_exporter": "python",
   "pygments_lexer": "ipython3",
   "version": "3.6.5"
  }
 },
 "nbformat": 4,
 "nbformat_minor": 2
}
