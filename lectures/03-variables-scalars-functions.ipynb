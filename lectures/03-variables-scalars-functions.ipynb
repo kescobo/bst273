{
 "cells": [
  {
   "cell_type": "markdown",
   "metadata": {},
   "source": [
    "# Lecture 03 - Variables, Scalars and Functions\n",
    "\n",
    "2018-09-11\n",
    "Kevin Bonham, PhD\n",
    "\n",
    "## Outline\n",
    "\n",
    "- Meaning vs syntax\n",
    "- Variables and methods\n",
    "- `Type`s of information (scalars)\n",
    "- **Hands-on**: working with variables and functions\n",
    "\n",
    "## Learning Ojectives\n",
    "\n",
    "At the end of this class period, you should be able to:\n",
    "1. Identify and explain the difference between common scalar types\n",
    "2. Create and modify variables in python\n",
    "3. Perform basic arithmetic calculations in code\n",
    "4. Manipulate strings and print the results to the console\n",
    "\n",
    "## Meaning vs Syntax\n",
    "\n",
    "- A programming \"language\" is really a translation\n",
    "  - Human intent --> machine code\n",
    "- There are two basic features in any language:\n",
    "  - Data (information)\n",
    "  - Instructions (actions)\n",
    "\n",
    "### The type of translation between intent and machine code is the \"syntax\"\n",
    "\n",
    "For example to ask the computer to display some text on the screen...\n",
    "\n",
    "In python 2: `print \"Hello, World!\"`\n",
    "In python 3: `print(\"Hello, World!\")`\n",
    "In julia: `println(\"Hello, World!\")`\n",
    "In java: `System.out.println(\"Hello, World!\")`\n",
    "\n",
    "### We will be using python3 syntax\n",
    "\n",
    "But many (most?) of the concepts you learn in this course\n",
    "are applicable to other languages too.\n",
    "Just append `in {LANGUAGE}` to your google search to learn the syntax. Eg:"
   ]
  },
  {
   "cell_type": "code",
   "execution_count": 1,
   "metadata": {},
   "outputs": [
    {
     "name": "stdout",
     "output_type": "stream",
     "text": [
      "How do I print something to the screen in python 2?\n",
      "How do I print something to the screen in python 3?\n",
      "How do I print something to the screen in julia?\n",
      "How do I print something to the screen in java?\n",
      "How do I print something to the screen in ruby?\n",
      "How do I print something to the screen in perl?\n"
     ]
    }
   ],
   "source": [
    "for language in ['python 2', 'python 3', 'julia', 'java', 'ruby', 'perl']:\n",
    "    print('How do I print something to the screen in {}?'.format(language))"
   ]
  },
  {
   "cell_type": "markdown",
   "metadata": {},
   "source": [
    "### Exercise\n",
    "\n",
    "**Find the syntax for adding two numbers together in some programming language**\n",
    "(not python)\n",
    "\n",
    "Some ideas:\n",
    "- Go\n",
    "- C++\n",
    "- javascript\n",
    "- FORTRAN\n",
    "\n",
    "## Variables store information\n",
    "\n",
    "It is often useful to pass around data with names,\n",
    "rather than passing around the values themselves."
   ]
  },
  {
   "cell_type": "code",
   "execution_count": 2,
   "metadata": {},
   "outputs": [
    {
     "data": {
      "text/plain": [
       "4"
      ]
     },
     "execution_count": 2,
     "metadata": {},
     "output_type": "execute_result"
    }
   ],
   "source": [
    "2 + 2 # this value isn't stored anyhere"
   ]
  },
  {
   "cell_type": "markdown",
   "metadata": {},
   "source": [
    "But we can assign it to a variable (in this case, `x`):"
   ]
  },
  {
   "cell_type": "code",
   "execution_count": 3,
   "metadata": {},
   "outputs": [],
   "source": [
    "x = 2 + 2"
   ]
  },
  {
   "cell_type": "markdown",
   "metadata": {},
   "source": [
    "Now we can access the value in the variable:"
   ]
  },
  {
   "cell_type": "code",
   "execution_count": 4,
   "metadata": {},
   "outputs": [
    {
     "data": {
      "text/plain": [
       "4"
      ]
     },
     "execution_count": 4,
     "metadata": {},
     "output_type": "execute_result"
    }
   ],
   "source": [
    "x"
   ]
  },
  {
   "cell_type": "code",
   "execution_count": 5,
   "metadata": {},
   "outputs": [
    {
     "name": "stdout",
     "output_type": "stream",
     "text": [
      "The value of x is 4\n"
     ]
    }
   ],
   "source": [
    "print(\"The value of x is\", x)"
   ]
  },
  {
   "cell_type": "markdown",
   "metadata": {},
   "source": [
    "And perform operations with it:"
   ]
  },
  {
   "cell_type": "code",
   "execution_count": 6,
   "metadata": {},
   "outputs": [
    {
     "data": {
      "text/plain": [
       "16"
      ]
     },
     "execution_count": 6,
     "metadata": {},
     "output_type": "execute_result"
    }
   ],
   "source": [
    "x * 4"
   ]
  },
  {
   "cell_type": "markdown",
   "metadata": {},
   "source": [
    "###"
   ]
  }
 ],
 "metadata": {
  "kernelspec": {
   "display_name": "Python 3",
   "language": "python",
   "name": "python3"
  },
  "language_info": {
   "codemirror_mode": {
    "name": "ipython",
    "version": 3
   },
   "file_extension": ".py",
   "mimetype": "text/x-python",
   "name": "python",
   "nbconvert_exporter": "python",
   "pygments_lexer": "ipython3",
   "version": "3.6.5"
  }
 },
 "nbformat": 4,
 "nbformat_minor": 2
}
