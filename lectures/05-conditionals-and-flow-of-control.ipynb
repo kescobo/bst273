{
 "cells": [
  {
   "cell_type": "markdown",
   "metadata": {
    "slideshow": {
     "slide_type": "slide"
    }
   },
   "source": [
    "# Conditionals and Flow of Control\n",
    "\n",
    "Eric Franzosa, Ph.D. (franzosa@hsph.harvard.edu)  \n",
    "2018-09-18"
   ]
  },
  {
   "cell_type": "markdown",
   "metadata": {
    "slideshow": {
     "slide_type": "slide"
    }
   },
   "source": [
    "## Outline\n",
    "\n",
    "- HW2 + office hours notes\n",
    "- Review of key concepts from week 1\n",
    "- Boolean values\n",
    "- Comparative and logical operators\n",
    "- Conditionals: `if`/`elif`/`else`\n",
    "- The `while` loop and loop control\n",
    "- Practice"
   ]
  },
  {
   "cell_type": "markdown",
   "metadata": {
    "slideshow": {
     "slide_type": "slide"
    }
   },
   "source": [
    "## Review: Variables\n",
    "\n",
    "- A variable is a \"bucket\" for storing data (or a reference to data).\n",
    "- Acting on a variable is the same as acting on the data it contains (or refers to). "
   ]
  },
  {
   "cell_type": "code",
   "execution_count": null,
   "metadata": {
    "slideshow": {
     "slide_type": "fragment"
    }
   },
   "outputs": [],
   "source": [
    "\"hello, world!\".upper( )"
   ]
  },
  {
   "cell_type": "code",
   "execution_count": null,
   "metadata": {
    "slideshow": {
     "slide_type": "fragment"
    }
   },
   "outputs": [],
   "source": [
    "message = \"hello, world!\"\n",
    "message.upper( )"
   ]
  },
  {
   "cell_type": "markdown",
   "metadata": {
    "slideshow": {
     "slide_type": "slide"
    }
   },
   "source": [
    "## Review: Scalar Data\n",
    "\n",
    "We'll use four `type`s of **scalar** data in this course \n",
    "- `str`ings\n",
    "- `int`s (integers)\n",
    "- `float`s (decimal numbers)\n",
    "- `bool`ean values (more on those today)"
   ]
  },
  {
   "cell_type": "markdown",
   "metadata": {
    "slideshow": {
     "slide_type": "slide"
    }
   },
   "source": [
    "Scalar data are **immutable**: operations on the data don't change the data."
   ]
  },
  {
   "cell_type": "code",
   "execution_count": null,
   "metadata": {
    "slideshow": {
     "slide_type": "fragment"
    }
   },
   "outputs": [],
   "source": [
    "x = 5\n",
    "x + 5\n",
    "print( x )"
   ]
  },
  {
   "cell_type": "markdown",
   "metadata": {
    "slideshow": {
     "slide_type": "fragment"
    }
   },
   "source": [
    "Scalar data are \"updated\" by overwriting the variables that contain them."
   ]
  },
  {
   "cell_type": "code",
   "execution_count": null,
   "metadata": {
    "slideshow": {
     "slide_type": "fragment"
    }
   },
   "outputs": [],
   "source": [
    "y = 5\n",
    "y = y + 5\n",
    "print( y )"
   ]
  },
  {
   "cell_type": "markdown",
   "metadata": {
    "slideshow": {
     "slide_type": "slide"
    }
   },
   "source": [
    "## Review: Collections\n",
    "\n",
    "We'll use three main data **collections** in this course:\n",
    "- `list`s are ordered collections of elements\n",
    "- `dict`s (dictionaries) are mappings from one type of data to another\n",
    "- `set`s are unordered collections of unique elements"
   ]
  },
  {
   "cell_type": "markdown",
   "metadata": {
    "slideshow": {
     "slide_type": "slide"
    }
   },
   "source": [
    "Collections are **mutable**: we can change them after they are created."
   ]
  },
  {
   "cell_type": "code",
   "execution_count": null,
   "metadata": {
    "slideshow": {
     "slide_type": "fragment"
    }
   },
   "outputs": [],
   "source": [
    "x = [0,1,2,3,4]\n",
    "print( x )"
   ]
  },
  {
   "cell_type": "code",
   "execution_count": null,
   "metadata": {
    "slideshow": {
     "slide_type": "fragment"
    }
   },
   "outputs": [],
   "source": [
    "x[0] = \"Hello\"\n",
    "x.append( \"World\" )\n",
    "print( x )"
   ]
  },
  {
   "cell_type": "markdown",
   "metadata": {
    "slideshow": {
     "slide_type": "slide"
    }
   },
   "source": [
    "## Review: Transformations of Data\n",
    "\n",
    "In Python we can transform data using **functions**, **methods**, and **operators**."
   ]
  },
  {
   "cell_type": "code",
   "execution_count": null,
   "metadata": {
    "slideshow": {
     "slide_type": "fragment"
    }
   },
   "outputs": [],
   "source": [
    "# functions take data as arguments and return some output\n",
    "sum( [1, 2, 3, 4, 5] )"
   ]
  },
  {
   "cell_type": "code",
   "execution_count": null,
   "metadata": {
    "slideshow": {
     "slide_type": "fragment"
    }
   },
   "outputs": [],
   "source": [
    "# methods are functions associated with particular data\n",
    "\"hello, world!\".upper( )"
   ]
  },
  {
   "cell_type": "markdown",
   "metadata": {
    "slideshow": {
     "slide_type": "fragment"
    }
   },
   "source": [
    "The piece of data that \"owns\" acts as an implied first argument: in other words, `x.method( )` behaves similarly to `method( x )`."
   ]
  },
  {
   "cell_type": "markdown",
   "metadata": {
    "slideshow": {
     "slide_type": "slide"
    }
   },
   "source": [
    "Operators are usually symbols and act on the data surrounding them (called *operands*)."
   ]
  },
  {
   "cell_type": "code",
   "execution_count": null,
   "metadata": {
    "slideshow": {
     "slide_type": "fragment"
    }
   },
   "outputs": [],
   "source": [
    "5 + 5"
   ]
  },
  {
   "cell_type": "markdown",
   "metadata": {
    "slideshow": {
     "slide_type": "fragment"
    }
   },
   "source": [
    "The same operator can do different things depending on the `type`s of the surrounding data:"
   ]
  },
  {
   "cell_type": "code",
   "execution_count": null,
   "metadata": {},
   "outputs": [],
   "source": [
    "\"5\" + \"5\""
   ]
  },
  {
   "cell_type": "code",
   "execution_count": null,
   "metadata": {
    "slideshow": {
     "slide_type": "fragment"
    }
   },
   "outputs": [],
   "source": [
    "[5] + [5]"
   ]
  },
  {
   "cell_type": "markdown",
   "metadata": {
    "slideshow": {
     "slide_type": "slide"
    }
   },
   "source": [
    "## Review: the `for` loop\n",
    "\n",
    "The `for` loop allows us to repeat a block of code. Properties of the `for` loop:\n",
    "- Definition of one (or more) temporary variables (e.g. `x` below)\n",
    "- Which store the elements of an iterable piece of data (e.g. a list of numbers)\n",
    "- Which are manipulated in an indented block of code\n",
    "\n"
   ]
  },
  {
   "cell_type": "code",
   "execution_count": null,
   "metadata": {
    "slideshow": {
     "slide_type": "fragment"
    }
   },
   "outputs": [],
   "source": [
    "for x in [0,1,2,3,4]:\n",
    "    x = x + 1\n",
    "    # note: a new aspect of print( ), ending with \" \" rather than a new line\n",
    "    print( x, end=\" \" )"
   ]
  },
  {
   "cell_type": "markdown",
   "metadata": {
    "slideshow": {
     "slide_type": "slide"
    }
   },
   "source": [
    "## Outline\n",
    "\n",
    "- ~~HW2 + office hours notes~~\n",
    "- ~~Review of key concepts from week 1~~\n",
    "- Boolean values\n",
    "- Comparative and logical operators\n",
    "- Conditionals: `if`/`elif`/`else`\n",
    "- The `while` loop and loop control\n",
    "- Practice"
   ]
  },
  {
   "cell_type": "markdown",
   "metadata": {
    "slideshow": {
     "slide_type": "slide"
    }
   },
   "source": [
    "## `True` and `False`\n",
    "\n",
    "There are only two Boolean values: `True` and `False`. They are used by computers to track objectively true and false statements within code."
   ]
  },
  {
   "cell_type": "markdown",
   "metadata": {
    "slideshow": {
     "slide_type": "fragment"
    }
   },
   "source": [
    "\"The blue whale is the largest mammal\": **Objectively true.**"
   ]
  },
  {
   "cell_type": "markdown",
   "metadata": {
    "slideshow": {
     "slide_type": "fragment"
    }
   },
   "source": [
    "\"Texas is the largest of the 50 United States\": **Objectively false.**"
   ]
  },
  {
   "cell_type": "markdown",
   "metadata": {
    "slideshow": {
     "slide_type": "fragment"
    }
   },
   "source": [
    "\"The grizzly bear is the best type of bear\": **An opinion. Neither objectively true nor false.**"
   ]
  },
  {
   "cell_type": "markdown",
   "metadata": {
    "slideshow": {
     "slide_type": "slide"
    }
   },
   "source": [
    "## Comparative operators\n",
    "\n",
    "Comparative operators return `True`/`False` values:\n",
    "- `==` : test of equality\n",
    "- `!=` : test of inequality (\"not equals\")\n",
    "- `<` and `>` : less-than / greater-than\n",
    "- `<=` and `>=` : less-than-or-equal-to / greater-than-or-equal-to"
   ]
  },
  {
   "cell_type": "code",
   "execution_count": null,
   "metadata": {
    "slideshow": {
     "slide_type": "slide"
    }
   },
   "outputs": [],
   "source": [
    "# == returns True if the surrounding values are equal...\n",
    "5 == 5"
   ]
  },
  {
   "cell_type": "code",
   "execution_count": null,
   "metadata": {
    "slideshow": {
     "slide_type": "fragment"
    }
   },
   "outputs": [],
   "source": [
    "# ...and False otherwise\n",
    "5 == -5"
   ]
  },
  {
   "cell_type": "code",
   "execution_count": null,
   "metadata": {
    "slideshow": {
     "slide_type": "fragment"
    }
   },
   "outputs": [],
   "source": [
    "# != returns the opposite of ==\n",
    "5 != -5"
   ]
  },
  {
   "cell_type": "markdown",
   "metadata": {
    "slideshow": {
     "slide_type": "slide"
    }
   },
   "source": [
    "Be careful not to confuse `=` and `==`.\n",
    "- `=` is the assignment operator: puts data into a variable.\n",
    "- `==` is the test of equality: evaluates if two pieces of data are equal.\n",
    "- Very common programming mix-up."
   ]
  },
  {
   "cell_type": "markdown",
   "metadata": {
    "slideshow": {
     "slide_type": "fragment"
    }
   },
   "source": [
    "Note that neither `=` nor `==` are direct analogs of **=** as it's used in math.\n",
    "- **=** in math is an assertion: x = 5 implies x **is** 5.\n",
    "- `==` poses a question: `x == 5` asks \"Is `x` equal to 5?\" (it might not be).\n",
    "- `=` is an action: `x = 5` sets the value of `x` to 5."
   ]
  },
  {
   "cell_type": "markdown",
   "metadata": {
    "slideshow": {
     "slide_type": "slide"
    }
   },
   "source": [
    "## Aside: Checking divisibility with `==` with `%`\n",
    "\n",
    "- `%` is the modulus operator.\n",
    "- returns the remainder when we divide `x` by `y`.\n",
    "- `x % y` is read \"x mod y\" (similar to how `x * y` is read \"x times y\")."
   ]
  },
  {
   "cell_type": "code",
   "execution_count": null,
   "metadata": {
    "slideshow": {
     "slide_type": "fragment"
    }
   },
   "outputs": [],
   "source": [
    "5 % 2"
   ]
  },
  {
   "cell_type": "markdown",
   "metadata": {
    "slideshow": {
     "slide_type": "fragment"
    }
   },
   "source": [
    "- If **x mod y** is 0, then **x** divides evenly into **y**.\n",
    "- For example, if **x mod 2** is 0, then **x** is even.\n",
    "- We will use this *a lot* today."
   ]
  },
  {
   "cell_type": "code",
   "execution_count": null,
   "metadata": {
    "slideshow": {
     "slide_type": "fragment"
    }
   },
   "outputs": [],
   "source": [
    "10 % 2 == 0"
   ]
  },
  {
   "cell_type": "markdown",
   "metadata": {
    "slideshow": {
     "slide_type": "slide"
    }
   },
   "source": [
    "## Comparative operators: `<`, `>`, `<=`, `>=`"
   ]
  },
  {
   "cell_type": "code",
   "execution_count": null,
   "metadata": {
    "slideshow": {
     "slide_type": "fragment"
    }
   },
   "outputs": [],
   "source": [
    "2 < 3"
   ]
  },
  {
   "cell_type": "code",
   "execution_count": null,
   "metadata": {
    "slideshow": {
     "slide_type": "fragment"
    }
   },
   "outputs": [],
   "source": [
    "3 < 3"
   ]
  },
  {
   "cell_type": "code",
   "execution_count": null,
   "metadata": {
    "slideshow": {
     "slide_type": "fragment"
    }
   },
   "outputs": [],
   "source": [
    "3 <= 3"
   ]
  },
  {
   "cell_type": "markdown",
   "metadata": {
    "slideshow": {
     "slide_type": "slide"
    }
   },
   "source": [
    "\n",
    "Comparative operators work on strings as well (where they indicate alphabetical order). It can be helpful to think of `x < y` as meaning \"does `x` come before `y` in sorted list?\""
   ]
  },
  {
   "cell_type": "code",
   "execution_count": null,
   "metadata": {
    "slideshow": {
     "slide_type": "fragment"
    }
   },
   "outputs": [],
   "source": [
    "\"a\" < \"b\""
   ]
  },
  {
   "cell_type": "code",
   "execution_count": null,
   "metadata": {
    "slideshow": {
     "slide_type": "fragment"
    }
   },
   "outputs": [],
   "source": [
    "\"b\" < \"a\""
   ]
  },
  {
   "cell_type": "code",
   "execution_count": null,
   "metadata": {
    "slideshow": {
     "slide_type": "fragment"
    }
   },
   "outputs": [],
   "source": [
    "\"a\" > \"A\""
   ]
  },
  {
   "cell_type": "markdown",
   "metadata": {
    "slideshow": {
     "slide_type": "slide"
    }
   },
   "source": [
    "## Comparative operators: `in`\n",
    "\n",
    "`in` is a special operator in Python that checks for \"membership\"."
   ]
  },
  {
   "cell_type": "code",
   "execution_count": null,
   "metadata": {
    "slideshow": {
     "slide_type": "fragment"
    }
   },
   "outputs": [],
   "source": [
    "# is the item present in a list?\n",
    "1 in [1,2,3,4,5]"
   ]
  },
  {
   "cell_type": "code",
   "execution_count": null,
   "metadata": {
    "slideshow": {
     "slide_type": "fragment"
    }
   },
   "outputs": [],
   "source": [
    "# is the item a key of a dictionary?\n",
    "\"apple\" in {\"apple\":0.99, \"banana\":0.59}"
   ]
  },
  {
   "cell_type": "code",
   "execution_count": 1,
   "metadata": {
    "slideshow": {
     "slide_type": "fragment"
    }
   },
   "outputs": [
    {
     "data": {
      "text/plain": [
       "False"
      ]
     },
     "execution_count": 1,
     "metadata": {},
     "output_type": "execute_result"
    }
   ],
   "source": [
    "# is the item (a string) a substring of a longer string?\n",
    "\"Eric\" in \"America\""
   ]
  },
  {
   "cell_type": "markdown",
   "metadata": {
    "slideshow": {
     "slide_type": "slide"
    }
   },
   "source": [
    "## Logical operators: `and` and `or`\n",
    "\n",
    "The operators `and` and `or` allow us to ask more sophisticated logical questions."
   ]
  },
  {
   "cell_type": "code",
   "execution_count": null,
   "metadata": {
    "slideshow": {
     "slide_type": "fragment"
    }
   },
   "outputs": [],
   "source": [
    "# <and> returns True if both flanking statements are True\n",
    "1 < 10 and 10 < 100"
   ]
  },
  {
   "cell_type": "code",
   "execution_count": null,
   "metadata": {
    "slideshow": {
     "slide_type": "fragment"
    }
   },
   "outputs": [],
   "source": [
    "1 < 10 and 10 > 100"
   ]
  },
  {
   "cell_type": "code",
   "execution_count": null,
   "metadata": {
    "slideshow": {
     "slide_type": "fragment"
    }
   },
   "outputs": [],
   "source": [
    "# <or> returns True if at least one flanking statement is True\n",
    "1 < 10 or 10 > 100"
   ]
  },
  {
   "cell_type": "markdown",
   "metadata": {
    "slideshow": {
     "slide_type": "slide"
    }
   },
   "source": [
    "## Logical operators: `not`\n",
    "\n",
    "`not` *negates* (flips) the truth value that follows it (the logical equivalent of multiplying by -1)."
   ]
  },
  {
   "cell_type": "code",
   "execution_count": null,
   "metadata": {
    "slideshow": {
     "slide_type": "fragment"
    }
   },
   "outputs": [],
   "source": [
    "not True"
   ]
  },
  {
   "cell_type": "code",
   "execution_count": null,
   "metadata": {
    "slideshow": {
     "slide_type": "fragment"
    }
   },
   "outputs": [],
   "source": [
    "not 100 > 10"
   ]
  },
  {
   "cell_type": "code",
   "execution_count": null,
   "metadata": {
    "slideshow": {
     "slide_type": "fragment"
    }
   },
   "outputs": [],
   "source": [
    "not 2 < 10 or 10 > 100"
   ]
  },
  {
   "cell_type": "code",
   "execution_count": null,
   "metadata": {
    "slideshow": {
     "slide_type": "fragment"
    }
   },
   "outputs": [],
   "source": [
    "# use parentheses to make the order of execution more explicit\n",
    "not (2 < 10 or 10 > 100)"
   ]
  },
  {
   "cell_type": "markdown",
   "metadata": {
    "slideshow": {
     "slide_type": "slide"
    }
   },
   "source": [
    "## Conditionals: the `if` statement\n",
    "\n",
    "Like the `for` loop, the `if` statement is another common \"structure\" for building programs. An `if` block will only execute if a given *condition* is `True`."
   ]
  },
  {
   "cell_type": "code",
   "execution_count": null,
   "metadata": {
    "slideshow": {
     "slide_type": "fragment"
    }
   },
   "outputs": [],
   "source": [
    "x = 4\n",
    "if x % 2 == 0:\n",
    "    print( x, \"is even\" )"
   ]
  },
  {
   "cell_type": "code",
   "execution_count": null,
   "metadata": {
    "slideshow": {
     "slide_type": "fragment"
    }
   },
   "outputs": [],
   "source": [
    "TEST = \"Eric\" in \"America\"\n",
    "if TEST:\n",
    "    print( \"I found a substring!\" )"
   ]
  },
  {
   "cell_type": "markdown",
   "metadata": {
    "slideshow": {
     "slide_type": "slide"
    }
   },
   "source": [
    "Recall an example from an earlier lecture:"
   ]
  },
  {
   "cell_type": "code",
   "execution_count": null,
   "metadata": {
    "slideshow": {
     "slide_type": "fragment"
    }
   },
   "outputs": [],
   "source": [
    "RAINING = True\n",
    "DAYTIME = True\n",
    "if RAINING and DAYTIME:\n",
    "    print( \"I went to the movies\" )"
   ]
  },
  {
   "cell_type": "markdown",
   "metadata": {
    "slideshow": {
     "slide_type": "slide"
    }
   },
   "source": [
    "## Conditionals: the `if`/`else` statement\n",
    "\n",
    "The `if`/`else` statement is slightly fancier: it executes the `if` block if a given condition is `True`, otherwise it executes the `else` block."
   ]
  },
  {
   "cell_type": "code",
   "execution_count": null,
   "metadata": {
    "slideshow": {
     "slide_type": "fragment"
    }
   },
   "outputs": [],
   "source": [
    "x = 4\n",
    "if x % 2 == 0:\n",
    "    print( x, \"is even\" )\n",
    "else:\n",
    "    print( x, \"is odd\" )"
   ]
  },
  {
   "cell_type": "markdown",
   "metadata": {
    "slideshow": {
     "slide_type": "slide"
    }
   },
   "source": [
    "## Conditionals: the `if`/`else` statement\n",
    "\n",
    "`if`/`else` statements are fundamental to decision making in programs (and life)."
   ]
  },
  {
   "cell_type": "code",
   "execution_count": null,
   "metadata": {
    "slideshow": {
     "slide_type": "fragment"
    }
   },
   "outputs": [],
   "source": [
    "traffic_signal = \"Red\"\n",
    "if traffic_signal == \"Green\":\n",
    "    print( \"Let's go!\" )\n",
    "else:\n",
    "    print( \"Stop!\" )"
   ]
  },
  {
   "cell_type": "markdown",
   "metadata": {
    "slideshow": {
     "slide_type": "slide"
    }
   },
   "source": [
    "## Conditionals:  the *ternary* operator\n",
    "\n",
    "Simple `if`/`else` statements (i.e. those with one \"line\" per block) can be expressed with the **ternary operator** `A if B else C`. This operator returns `A` if `B` is `True`, otherwise it returns `C`."
   ]
  },
  {
   "cell_type": "code",
   "execution_count": null,
   "metadata": {},
   "outputs": [],
   "source": [
    "pattern = \"fun\"\n",
    "text = \"fundamentals\"\n",
    "answer = \"found\" if (pattern in text) else \"missing\"\n",
    "print( answer )"
   ]
  },
  {
   "cell_type": "markdown",
   "metadata": {
    "slideshow": {
     "slide_type": "slide"
    }
   },
   "source": [
    "## Conditionals:  the `if`/`elif`/`else` statement\n",
    "\n",
    "The `if`/`elif`/`else` statement is the most flexible: it allows us to check a variety of possible conditions. Only the block associated with the first `True` condition will be executed. Here, `else` is often used to catch an unexpected option."
   ]
  },
  {
   "cell_type": "code",
   "execution_count": null,
   "metadata": {
    "slideshow": {
     "slide_type": "fragment"
    }
   },
   "outputs": [],
   "source": [
    "traffic_signal = \"Yellow\"\n",
    "if traffic_signal == \"Green\":\n",
    "    print( \"Let's go!\" )\n",
    "elif traffic_signal == \"Yellow\":\n",
    "    print( \"Slow down, prepare to stop.\" )\n",
    "elif traffic_signal == \"Red\":\n",
    "    print( \"Stop!\" )\n",
    "else:\n",
    "    print( \"Unknown signal; proceed with caution.\" )"
   ]
  },
  {
   "cell_type": "markdown",
   "metadata": {
    "slideshow": {
     "slide_type": "slide"
    }
   },
   "source": [
    "`if`/`elif` differs from a pair of `if` statements:"
   ]
  },
  {
   "cell_type": "code",
   "execution_count": null,
   "metadata": {
    "slideshow": {
     "slide_type": "fragment"
    }
   },
   "outputs": [],
   "source": [
    "x = 5\n",
    "if x > 3:\n",
    "    print( x, \"is greater than 3\" )\n",
    "elif x > 1:\n",
    "    print( x, \"is greater than 1\" )"
   ]
  },
  {
   "cell_type": "code",
   "execution_count": null,
   "metadata": {
    "slideshow": {
     "slide_type": "fragment"
    }
   },
   "outputs": [],
   "source": [
    "if x > 3:\n",
    "    print( x, \"is greater than 3\" )\n",
    "if x > 1:\n",
    "    print( x, \"is greater than 1\" )"
   ]
  },
  {
   "cell_type": "markdown",
   "metadata": {
    "slideshow": {
     "slide_type": "slide"
    }
   },
   "source": [
    "## Conditionals in loops\n",
    "\n",
    "Conditionals frequently arise within loops. There, they allow us to perform different actions depending on the current value of the loop variable. Note the second level of indentation for the `if`/`else` blocks."
   ]
  },
  {
   "cell_type": "code",
   "execution_count": null,
   "metadata": {
    "slideshow": {
     "slide_type": "fragment"
    }
   },
   "outputs": [],
   "source": [
    "for i in [1,2,3,4,5]:\n",
    "    if i % 2 == 0:\n",
    "        print( \"Even\", end=\" \" )\n",
    "    else:\n",
    "        print( \"Odd\", end=\" \" )"
   ]
  },
  {
   "cell_type": "markdown",
   "metadata": {
    "slideshow": {
     "slide_type": "slide"
    }
   },
   "source": [
    "## Conditionals in loops: Fizz Buzz\n",
    "\n",
    "- \"Fizz Buzz\" is a children's game in which players count in a circle.\n",
    "- When it's time to say a number that is divisible by 3, you say \"Fizz\" instead of the number.\n",
    "- When it's time to say a number that is divisible by 5, you say \"Buzz\".\n",
    "- If the number is divisible by both 3 and 5, you say \"Fizz Buzz\"."
   ]
  },
  {
   "cell_type": "code",
   "execution_count": null,
   "metadata": {
    "slideshow": {
     "slide_type": "fragment"
    }
   },
   "outputs": [],
   "source": [
    "for i in range( 1, 35 ):\n",
    "    say = i\n",
    "    if i % 3 == 0 and i % 5 == 0:\n",
    "        say = \"Fizz Buzz\"\n",
    "    elif i % 3 == 0:\n",
    "        say = \"Fizz\"\n",
    "    elif i % 5 == 0:\n",
    "        say = \"Buzz\"\n",
    "    print( say, end=\", \" )"
   ]
  },
  {
   "cell_type": "markdown",
   "metadata": {
    "slideshow": {
     "slide_type": "slide"
    }
   },
   "source": [
    "# Conditionals in loops: Fizz Buzz\n",
    "\n",
    "The order of the tests in our `if`/`elif`/`else` statement different from my description of the game. What happens if I use the original order?"
   ]
  },
  {
   "cell_type": "code",
   "execution_count": null,
   "metadata": {
    "slideshow": {
     "slide_type": "fragment"
    }
   },
   "outputs": [],
   "source": [
    "for i in range( 1, 35 ):\n",
    "    say = i\n",
    "    if i % 3 == 0:\n",
    "        say = \"Fizz\"\n",
    "    elif i % 5 == 0:\n",
    "        say = \"Buzz\"\n",
    "    elif i % 3 == 0 and i % 5 == 0:\n",
    "        say = \"Fizz Buzz\"\n",
    "    print( say, end=\", \" )"
   ]
  },
  {
   "cell_type": "markdown",
   "metadata": {
    "slideshow": {
     "slide_type": "slide"
    }
   },
   "source": [
    "**Structure conditionals from more to less specific**."
   ]
  },
  {
   "cell_type": "markdown",
   "metadata": {
    "slideshow": {
     "slide_type": "slide"
    }
   },
   "source": [
    "## Conditionals in loops: Fizz Buzz\n",
    "\n",
    "We can also approach this problem with **nested conditionals**:"
   ]
  },
  {
   "cell_type": "code",
   "execution_count": null,
   "metadata": {},
   "outputs": [],
   "source": [
    "for i in range( 1, 35 ):\n",
    "    say = i\n",
    "    if i % 3 == 0:\n",
    "        if i % 5 == 0:\n",
    "            say = \"Fizz Buzz\"\n",
    "        else:\n",
    "            say = \"Fizz\"       \n",
    "    elif i % 5 == 0:\n",
    "        say = \"Buzz\"\n",
    "    print( say, end=\", \" )"
   ]
  },
  {
   "cell_type": "markdown",
   "metadata": {
    "slideshow": {
     "slide_type": "slide"
    }
   },
   "source": [
    "**Deeply nested code is harder for PEOPLE to read. Avoid when possible.**"
   ]
  },
  {
   "cell_type": "markdown",
   "metadata": {
    "slideshow": {
     "slide_type": "slide"
    }
   },
   "source": [
    "## Conditionals in loops: Max Price\n",
    "\n",
    "Find the most expensive fruit in this dictionary of prices:"
   ]
  },
  {
   "cell_type": "code",
   "execution_count": null,
   "metadata": {
    "slideshow": {
     "slide_type": "fragment"
    }
   },
   "outputs": [],
   "source": [
    "prices = {\n",
    "    \"apple\": 0.99,\n",
    "    \"banana\": 0.59,\n",
    "    \"cantaloupe\": 2.99,\n",
    "    \"grape\": 0.05,\n",
    "}"
   ]
  },
  {
   "cell_type": "code",
   "execution_count": null,
   "metadata": {
    "slideshow": {
     "slide_type": "fragment"
    }
   },
   "outputs": [],
   "source": [
    "# a common \"motif\" for finding a max\n",
    "max_price = 0\n",
    "for fruit in prices:\n",
    "    my_price = prices[fruit]\n",
    "    if my_price > max_price:\n",
    "        max_price = my_price\n",
    "print( max_price )    "
   ]
  },
  {
   "cell_type": "markdown",
   "metadata": {
    "slideshow": {
     "slide_type": "slide"
    }
   },
   "source": [
    "## `break` and `continue` change loop behavior\n",
    "\n",
    "* Executing `break` exits the loop immediately.\n",
    "* Executing `continue` moves immediately to the next cycle of the loop."
   ]
  },
  {
   "cell_type": "code",
   "execution_count": null,
   "metadata": {
    "slideshow": {
     "slide_type": "fragment"
    }
   },
   "outputs": [],
   "source": [
    "for i in range( 10 ):\n",
    "    print( i, end=\" \" )"
   ]
  },
  {
   "cell_type": "code",
   "execution_count": null,
   "metadata": {
    "slideshow": {
     "slide_type": "fragment"
    }
   },
   "outputs": [],
   "source": [
    "for i in range( 10 ):\n",
    "    if i > 5:\n",
    "        break\n",
    "    print( i, end=\" \")"
   ]
  },
  {
   "cell_type": "code",
   "execution_count": null,
   "metadata": {
    "slideshow": {
     "slide_type": "fragment"
    }
   },
   "outputs": [],
   "source": [
    "for i in range( 10 ):\n",
    "    if i < 5:\n",
    "        continue\n",
    "    print( i, end=\" \" )"
   ]
  },
  {
   "cell_type": "markdown",
   "metadata": {
    "slideshow": {
     "slide_type": "slide"
    }
   },
   "source": [
    "## The `while` loop\n",
    "\n",
    "The `while` continues looping as long as a condition is `True`."
   ]
  },
  {
   "cell_type": "code",
   "execution_count": null,
   "metadata": {
    "slideshow": {
     "slide_type": "fragment"
    }
   },
   "outputs": [],
   "source": [
    "x = 0\n",
    "while x < 10:\n",
    "    print( x, end=\" \" )\n",
    "    x += 1"
   ]
  },
  {
   "cell_type": "markdown",
   "metadata": {
    "slideshow": {
     "slide_type": "fragment"
    }
   },
   "source": [
    "- **If we comment out the `x += 1` line, then `x < 10` will ALWAYS be `True`, and we will loop forever.**\n",
    "- This is an example of an \"infinite loop\".\n",
    "- If your code is \"hanging\" (running for a long time without doing anything), check for bad `while` loops."
   ]
  },
  {
   "cell_type": "markdown",
   "metadata": {
    "slideshow": {
     "slide_type": "slide"
    }
   },
   "source": [
    "## Practice: The Collatz Conjecture\n",
    "\n",
    "Consider the following algorithm that acts on a positive interger **n**:\n",
    "\n",
    "* If **n** is even, divide **n** by 2, then repeat this process.\n",
    "* If **n** is odd, triple **n** and add 1, then repeat this process.\n",
    "\n",
    "No matter what **n** we start with, if we repeat the above rules over and over, we always seem to end up at 1. Indeed, [The Collatz Conjecture](https://en.wikipedia.org/wiki/Collatz_conjecture) is that all numbers will end up at 1: a fact that has never been proven (but no counterexamples have been found).\n",
    "\n",
    "- **Convince yourself**: Pick a number and verify that repeating the above process leads to 1.\n",
    "- For example, if I start with **n** = 12, I pass through **n** = 6, 3, 10, 5, 16, 8, 4, 2, and finally 1."
   ]
  },
  {
   "cell_type": "markdown",
   "metadata": {
    "slideshow": {
     "slide_type": "slide"
    }
   },
   "source": [
    "## Practice: The Collatz Conjecture\n",
    "\n",
    "Below I've written a Python function to generate a Collatz \"chain\". Try to describe in words what the function is doing using concepts from today's lecture. (`//` is the *integer division operator*: it returns the integer part of a quotient between two numbers, whereas normal division, `/`, always returns a decimal answer.)"
   ]
  },
  {
   "cell_type": "code",
   "execution_count": null,
   "metadata": {
    "slideshow": {
     "slide_type": "fragment"
    }
   },
   "outputs": [],
   "source": [
    "def collatz( n ):\n",
    "    chain = [n]\n",
    "    while n != 1:\n",
    "        if n % 2 == 0:\n",
    "            n = n // 2\n",
    "        else:\n",
    "            n = 3 * n + 1\n",
    "        chain.append( n )\n",
    "    return chain"
   ]
  },
  {
   "cell_type": "code",
   "execution_count": null,
   "metadata": {
    "slideshow": {
     "slide_type": "fragment"
    }
   },
   "outputs": [],
   "source": [
    "# try experimenting with different numbers\n",
    "collatz( 12 )"
   ]
  },
  {
   "cell_type": "markdown",
   "metadata": {
    "slideshow": {
     "slide_type": "fragment"
    }
   },
   "source": [
    "**What would happen if we called `collatz( )` with an argument (number) that violated the Collatz Conjecture? In other words, a (theoretical) number whose chain never arrived at 1?**"
   ]
  },
  {
   "cell_type": "markdown",
   "metadata": {
    "slideshow": {
     "slide_type": "slide"
    }
   },
   "source": [
    "## Practice: The Collatz Conjecture: Exercise 1\n",
    "\n",
    "- Write a Python loop to try to find the longest Collatz chain between 2 and 100.\n",
    "- What number produces the chain?\n",
    "- How long is the chain?"
   ]
  },
  {
   "cell_type": "code",
   "execution_count": null,
   "metadata": {
    "slideshow": {
     "slide_type": "fragment"
    }
   },
   "outputs": [],
   "source": [
    "# here is a code \"skeleton\" to get you started\n",
    "best_n = 1\n",
    "best_chain = []\n",
    "# replace [] to loop through the numbers 2-100\n",
    "for n in []:\n",
    "    # replace [] with a function call to get n's chain  \n",
    "    my_chain = []\n",
    "    # replace 0 to test if this is the longest chain we've seen\n",
    "    if len( my_chain ) > 0:\n",
    "        # replace 1 and [] to track the best n and its chain\n",
    "        best_n = 1\n",
    "        best_chain = []\n",
    "\n",
    "# results\n",
    "print( best_n )\n",
    "print( len( best_chain ) )\n",
    "print( best_chain )"
   ]
  },
  {
   "cell_type": "markdown",
   "metadata": {
    "slideshow": {
     "slide_type": "slide"
    }
   },
   "source": [
    "## Practice: The Collatz Conjecture: Exercise 2\n",
    "\n",
    "Write Python code to determine how many Collatz chains (up to a given number) pass through a given number. For example, there are 5 chains starting between 2 and 100 that pass through 25."
   ]
  },
  {
   "cell_type": "code",
   "execution_count": null,
   "metadata": {
    "slideshow": {
     "slide_type": "fragment"
    }
   },
   "outputs": [],
   "source": [
    "# your code here"
   ]
  },
  {
   "cell_type": "markdown",
   "metadata": {
    "slideshow": {
     "slide_type": "slide"
    }
   },
   "source": [
    "## Practice: The Collatz Conjecture: Exercise 3\n",
    "\n",
    "Write Python code to determine the most frequently visited numbers in chains starting between 2 and 100. Note that we can use a dictionary in this process:"
   ]
  },
  {
   "cell_type": "code",
   "execution_count": null,
   "metadata": {
    "slideshow": {
     "slide_type": "fragment"
    }
   },
   "outputs": [],
   "source": [
    "counts = {}\n",
    "for n in [9, 99, 99, 999, 999, 999]:\n",
    "    # if n is not already in counts, we will get an error when we try to increase it\n",
    "    if not (n in counts):\n",
    "        counts[n] = 0\n",
    "    counts[n] = counts[n] + 1\n",
    "print( counts )"
   ]
  },
  {
   "cell_type": "code",
   "execution_count": null,
   "metadata": {
    "slideshow": {
     "slide_type": "fragment"
    }
   },
   "outputs": [],
   "source": [
    "# your code here"
   ]
  },
  {
   "cell_type": "markdown",
   "metadata": {
    "slideshow": {
     "slide_type": "slide"
    }
   },
   "source": [
    "## More like this: Project Euler\n",
    "\n",
    "If you like math puzzles like the ones above, [Project Euler](https://projecteuler.net/) is full of them. It is also a great place to practice a new programming language. Providing the correct answer to a problem unlocks the next (slightly harder) problem."
   ]
  }
 ],
 "metadata": {
  "celltoolbar": "Slideshow",
  "kernelspec": {
   "display_name": "Python 3",
   "language": "python",
   "name": "python3"
  },
  "language_info": {
   "codemirror_mode": {
    "name": "ipython",
    "version": 3
   },
   "file_extension": ".py",
   "mimetype": "text/x-python",
   "name": "python",
   "nbconvert_exporter": "python",
   "pygments_lexer": "ipython3",
   "version": "3.6.5"
  },
  "livereveal": {
   "transition": "none"
  }
 },
 "nbformat": 4,
 "nbformat_minor": 2
}
