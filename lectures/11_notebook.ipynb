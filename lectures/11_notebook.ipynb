{
 "cells": [
  {
   "cell_type": "markdown",
   "metadata": {},
   "source": [
    "# Working with Strings: Regular Expressions\n",
    "\n",
    "Kevin Bonham, PhD\n",
    "Eric Franzosa, PhD"
   ]
  },
  {
   "cell_type": "markdown",
   "metadata": {},
   "source": [
    "## Outline\n",
    "\n",
    "- Complex string printing\n",
    "- What are regular expressions?\n",
    "- Using regular expressions in python\n",
    "- Lots of practice"
   ]
  },
  {
   "cell_type": "markdown",
   "metadata": {},
   "source": [
    "## Learning Objectives\n",
    "\n",
    "After completing this lesson, you should be able to:\n",
    "\n",
    "- Print a complex string built from variables using the `.format()` string method\n",
    "- Identify the individual matching elements of a regular expression\n",
    "- Use the RE module in python to match a specified pattern in a string\n",
    "- Predict which parts of a regular expression are prone to failure"
   ]
  },
  {
   "cell_type": "markdown",
   "metadata": {},
   "source": [
    "## String Creation with `.format()`\n",
    "\n",
    "There are many ways to create strings"
   ]
  },
  {
   "cell_type": "code",
   "execution_count": 7,
   "metadata": {},
   "outputs": [],
   "source": [
    "s0 = \"Hello, World!\"\n",
    "s1, s2, s3, s4 = ['Hell', 'o', 'World', ',!']"
   ]
  },
  {
   "cell_type": "code",
   "execution_count": 11,
   "metadata": {},
   "outputs": [
    {
     "data": {
      "text/plain": [
       "'Hello, World!'"
      ]
     },
     "execution_count": 11,
     "metadata": {},
     "output_type": "execute_result"
    }
   ],
   "source": [
    "s1 + s2 + s4[0] + ' ' + s3 + s4[1]"
   ]
  },
  {
   "cell_type": "code",
   "execution_count": 16,
   "metadata": {},
   "outputs": [
    {
     "name": "stdout",
     "output_type": "stream",
     "text": [
      "The current path is /Users/kev/computation/science/hutlab/bst273/lectures\n"
     ]
    }
   ],
   "source": [
    "import os\n",
    "\n",
    "print(\"The current path is\", os.getcwd())"
   ]
  },
  {
   "cell_type": "markdown",
   "metadata": {},
   "source": [
    "### The `.format()` string method enables complext string creation"
   ]
  },
  {
   "cell_type": "code",
   "execution_count": 19,
   "metadata": {},
   "outputs": [
    {
     "name": "stdout",
     "output_type": "stream",
     "text": [
      "\n",
      "The first element: Life, the Universe, and Everything\n",
      "The second element: 42\n",
      "The firt element again: Life, the Universe, and Everything\n",
      "\n"
     ]
    }
   ],
   "source": [
    "template = \"\"\"\n",
    "The first element: {0}\n",
    "The second element: {1}\n",
    "The firt element again: {0}\n",
    "\"\"\"\n",
    "\n",
    "print(template.format(\"Life, the Universe, and Everything\", 42))"
   ]
  },
  {
   "cell_type": "code",
   "execution_count": 21,
   "metadata": {},
   "outputs": [
    {
     "name": "stdout",
     "output_type": "stream",
     "text": [
      "\n",
      "The first element: Green Eggs\n",
      "The second element: Spam\n",
      "The firt element again: Green Eggs\n",
      "\n"
     ]
    }
   ],
   "source": [
    "print(template.format(\"Green Eggs\", \"Spam\"))"
   ]
  },
  {
   "cell_type": "code",
   "execution_count": 22,
   "metadata": {},
   "outputs": [
    {
     "name": "stdout",
     "output_type": "stream",
     "text": [
      "Numbers aren't needed for positional arguments\n",
      "Numbers are needed for repeated arguments\n"
     ]
    }
   ],
   "source": [
    "t2 = \"Numbers {} needed for {} arguments\"\n",
    "print(t2.format(\"aren't\", \"positional\"))\n",
    "print(t2.format(\"are\", \"repeated\"))"
   ]
  },
  {
   "cell_type": "code",
   "execution_count": 26,
   "metadata": {},
   "outputs": [
    {
     "ename": "IndexError",
     "evalue": "tuple index out of range",
     "output_type": "error",
     "traceback": [
      "\u001b[0;31m---------------------------------------------------------------------------\u001b[0m",
      "\u001b[0;31mIndexError\u001b[0m                                Traceback (most recent call last)",
      "\u001b[0;32m<ipython-input-26-7e122b181ace>\u001b[0m in \u001b[0;36m<module>\u001b[0;34m()\u001b[0m\n\u001b[0;32m----> 1\u001b[0;31m \u001b[0mprint\u001b[0m\u001b[0;34m(\u001b[0m\u001b[0mt2\u001b[0m\u001b[0;34m.\u001b[0m\u001b[0mformat\u001b[0m\u001b[0;34m(\u001b[0m\u001b[0;34m\"WAIT WHAT?\"\u001b[0m\u001b[0;34m)\u001b[0m\u001b[0;34m)\u001b[0m\u001b[0;34m\u001b[0m\u001b[0m\n\u001b[0m",
      "\u001b[0;31mIndexError\u001b[0m: tuple index out of range"
     ]
    }
   ],
   "source": [
    "print(t2.format(\"WAIT WHAT?\"))"
   ]
  },
  {
   "cell_type": "code",
   "execution_count": 28,
   "metadata": {},
   "outputs": [
    {
     "name": "stdout",
     "output_type": "stream",
     "text": [
      "\n",
      "The first element: ['first', 'second']\n",
      "The second element: third\n",
      "The firt element again: ['first', 'second']\n",
      "\n"
     ]
    }
   ],
   "source": [
    "print(template.format([\"first\", \"second\"], \"third\"))"
   ]
  },
  {
   "cell_type": "markdown",
   "metadata": {},
   "source": [
    "### Poll: Finish the expression\n",
    "\n",
    "Can you make a list with greetings for the teaching staff of BST273 using the `.format()` method?"
   ]
  },
  {
   "cell_type": "code",
   "execution_count": 33,
   "metadata": {},
   "outputs": [
    {
     "data": {
      "text/plain": [
       "['Hello, s!', 'Hello, s!', 'Hello, s!', 'Hello, s!', 'Hello, s!']"
      ]
     },
     "execution_count": 33,
     "metadata": {},
     "output_type": "execute_result"
    }
   ],
   "source": [
    "staff = [\"Eric\", \"Kevin\", \"Emma\", \"Marina\", \"Shirley\"]\n",
    "greetings = []\n",
    "\n",
    "for s in staff:\n",
    "    # Fix the line below and paste it into the answer box of today's poll\n",
    "    greetings.append(\"Hello, s!\".format())\n",
    "\n",
    "greetings"
   ]
  },
  {
   "cell_type": "markdown",
   "metadata": {},
   "source": [
    "## Regular Expressions - Motivation"
   ]
  },
  {
   "cell_type": "markdown",
   "metadata": {},
   "source": [
    "### Matching simple patterns is useful, but limited."
   ]
  },
  {
   "cell_type": "code",
   "execution_count": 35,
   "metadata": {},
   "outputs": [],
   "source": [
    "def narcissus(test_string):\n",
    "    return \"kevin\" in test_string.lower()"
   ]
  },
  {
   "cell_type": "code",
   "execution_count": 37,
   "metadata": {},
   "outputs": [
    {
     "data": {
      "text/plain": [
       "[False, True, False, False, False]"
      ]
     },
     "execution_count": 37,
     "metadata": {},
     "output_type": "execute_result"
    }
   ],
   "source": [
    "[narcissus(s) for s in greetings]"
   ]
  },
  {
   "cell_type": "markdown",
   "metadata": {},
   "source": [
    "### Thought question: How can I identfy e-mail addresses?"
   ]
  },
  {
   "cell_type": "code",
   "execution_count": 38,
   "metadata": {},
   "outputs": [],
   "source": [
    "def isemail(a_string):\n",
    "    return \"@\" in a_string"
   ]
  },
  {
   "cell_type": "code",
   "execution_count": 41,
   "metadata": {},
   "outputs": [],
   "source": [
    "test_cases = [\n",
    "    \"kbonham@broadinstitute.org\",\n",
    "    \"eric_franzosa@hsph.harvard.edu\",\n",
    "    \"http://www.broadinstitute.org\",\n",
    "    \"My twitter handle: @kevbonham\",\n",
    "    \"My office hours this week @ 1pm\"\n",
    "]"
   ]
  },
  {
   "cell_type": "code",
   "execution_count": 42,
   "metadata": {},
   "outputs": [
    {
     "data": {
      "text/plain": [
       "[True, True, False, True, True]"
      ]
     },
     "execution_count": 42,
     "metadata": {},
     "output_type": "execute_result"
    }
   ],
   "source": [
    "[isemail(t) for t in test_cases]"
   ]
  },
  {
   "attachments": {},
   "cell_type": "markdown",
   "metadata": {},
   "source": [
    "### Regular expressions are a special pattern syntax\n",
    "\n",
    "- Also called “regexps” or “regexes” or “REs” as shorthand\n",
    "- A language for describing patterns in strings\n",
    "- Useful for:\n",
    "    - Asking if a pattern occurs in a text\n",
    "    - \"Capturing\" all or part of the pattern for manipulation\n",
    "    - Replacing all or part of the pattern!\n",
    "\n",
    "**WARNING: This will be confusing - practice is necessary**\n",
    "\n",
    "My favorite resource (I use this all the time): [regexr.com](http://regexr.com)"
   ]
  },
  {
   "attachments": {},
   "cell_type": "markdown",
   "metadata": {},
   "source": [
    "![](https://imgs.xkcd.com/comics/regular_expressions.png)"
   ]
  },
  {
   "cell_type": "markdown",
   "metadata": {},
   "source": [
    "### To use regular expressions in python, we use the RE module\n",
    "\n",
    "- `re.search( <pattern>, <text> )` to find and return matches\n",
    "- `re.finditer( <pattern>, <text> )` to iterate through matches\n",
    "- `re.sub( <pattern>, <replacement>, <text> )` find/replace"
   ]
  },
  {
   "cell_type": "code",
   "execution_count": 165,
   "metadata": {},
   "outputs": [],
   "source": [
    "import re\n",
    "\n",
    "def displaymatch(pattern, string):\n",
    "    match = re.search(pattern, string)\n",
    "    if match is None:\n",
    "        return \"No Match!!\"\n",
    "    return 'Match:  \"{}\"'.format(match.group())\n",
    "\n",
    "def displaymatches(pattern, string):\n",
    "    matches = list(enumerate(re.finditer(pattern, string)))\n",
    "    if len(matches) == 0:\n",
    "        yield \"No Match!!\"\n",
    "    else:\n",
    "        for c, m in matches:\n",
    "            yield('Match {}: \"{}\"'.format(c, m.group()))\n",
    "            "
   ]
  },
  {
   "cell_type": "code",
   "execution_count": 166,
   "metadata": {},
   "outputs": [
    {
     "name": "stdout",
     "output_type": "stream",
     "text": [
      "Match:  \"an\"\n"
     ]
    }
   ],
   "source": [
    "print(displaymatch(\"an\", \"banana\"))"
   ]
  },
  {
   "cell_type": "code",
   "execution_count": 167,
   "metadata": {},
   "outputs": [
    {
     "name": "stdout",
     "output_type": "stream",
     "text": [
      "Match 0: \"an\"\n",
      "Match 1: \"an\"\n"
     ]
    }
   ],
   "source": [
    "for m in displaymatches(\"an\", \"banana\"):\n",
    "    print(m)"
   ]
  },
  {
   "cell_type": "markdown",
   "metadata": {},
   "source": [
    "### Exact matching"
   ]
  },
  {
   "cell_type": "code",
   "execution_count": 168,
   "metadata": {},
   "outputs": [
    {
     "name": "stdout",
     "output_type": "stream",
     "text": [
      "Match:  \"Hello\"\n"
     ]
    }
   ],
   "source": [
    "print(displaymatch(\"Hello\", \"Hello, World!\"))"
   ]
  },
  {
   "cell_type": "code",
   "execution_count": 169,
   "metadata": {},
   "outputs": [
    {
     "name": "stdout",
     "output_type": "stream",
     "text": [
      "No Match!!\n"
     ]
    }
   ],
   "source": [
    "print(displaymatch(\"hello\", \"Hello, World!\"))"
   ]
  },
  {
   "cell_type": "markdown",
   "metadata": {},
   "source": [
    "**Beware: *Matching is case-sensitive***"
   ]
  },
  {
   "cell_type": "markdown",
   "metadata": {},
   "source": [
    "## The wildcard character\n",
    "\n",
    "`.` reprents **anything**"
   ]
  },
  {
   "cell_type": "code",
   "execution_count": 170,
   "metadata": {},
   "outputs": [
    {
     "name": "stdout",
     "output_type": "stream",
     "text": [
      "Match:  \"Hello\"\n",
      "Match:  \"hello\"\n",
      "Match:  \"Mello\"\n",
      "Match:  \"yello\"\n"
     ]
    }
   ],
   "source": [
    "p = \".ello\"\n",
    "check = [\"Hello, World!\", \"hello, world!\", \"Mellow\", \"yellow\"]\n",
    "for s in check:\n",
    "    print(displaymatch(p, s))"
   ]
  },
  {
   "cell_type": "code",
   "execution_count": 171,
   "metadata": {},
   "outputs": [
    {
     "name": "stdout",
     "output_type": "stream",
     "text": [
      "Match 0: \"Unive\"\n",
      "Match 1: \"thing\"\n"
     ]
    }
   ],
   "source": [
    "p = \"..i..\"\n",
    "check = \"Life, the Universe, and Everything\"\n",
    "for m in displaymatches(p, check):\n",
    "    print(m)"
   ]
  },
  {
   "cell_type": "markdown",
   "metadata": {},
   "source": [
    "**Beware: _everything has to match_**"
   ]
  },
  {
   "cell_type": "markdown",
   "metadata": {},
   "source": [
    "## Pre-defined character classes\n",
    "\n",
    "- `\\d` matches any **digit** (0-9)\n",
    "    - `\\D` matches any **NOT** digit\n",
    "- `\\s` matches any **whitespace** (space, tab, newline)\n",
    "    - `\\S` matches any **NOT** whitespace\n",
    "- `\\w` matches any **word character** (0-9, letters, underscore)\n",
    "    - `\\W` matches any **NOT** word character"
   ]
  },
  {
   "cell_type": "code",
   "execution_count": 174,
   "metadata": {},
   "outputs": [],
   "source": [
    "check = \"99 Bottles of beer on the wall, 99 bottles of beer\"\n",
    "patterns = [r\"\\d\\d\", r\"\\d\\D\", r\"\\s\\D\\D\\s\"]"
   ]
  },
  {
   "cell_type": "code",
   "execution_count": 175,
   "metadata": {},
   "outputs": [
    {
     "name": "stdout",
     "output_type": "stream",
     "text": [
      "Pattern: \\d\\d\n",
      "Match 0: \"99\"\n",
      "Match 1: \"99\"\n",
      "Pattern: \\d\\D\n",
      "Match 0: \"9 \"\n",
      "Match 1: \"9 \"\n",
      "Pattern: \\s\\D\\D\\s\n",
      "Match 0: \" of \"\n",
      "Match 1: \" on \"\n",
      "Match 2: \" of \"\n"
     ]
    }
   ],
   "source": [
    "for p in patterns:\n",
    "    print(\"Pattern:\", p)\n",
    "    for m in displaymatches(p, check):\n",
    "        print(m)"
   ]
  },
  {
   "cell_type": "code",
   "execution_count": 176,
   "metadata": {},
   "outputs": [
    {
     "name": "stdout",
     "output_type": "stream",
     "text": [
      "Match:  \" want \"\n"
     ]
    }
   ],
   "source": [
    "check = \"It’s my party and I’ll cry if I want to\"\n",
    "p = r\"\\W\\w\\w\\w\\w\\W\"\n",
    "print(displaymatch(p, check))"
   ]
  },
  {
   "cell_type": "code",
   "execution_count": 105,
   "metadata": {},
   "outputs": [
    {
     "name": "stdout",
     "output_type": "stream",
     "text": [
      "Match:  \" 1941-\"\n"
     ]
    }
   ],
   "source": [
    "check = \"Yesterday, December 7, 1941--a date which will live in infamy\"\n",
    "print(displaymatch(p, check))"
   ]
  },
  {
   "attachments": {},
   "cell_type": "markdown",
   "metadata": {},
   "source": [
    "### Custom character classes\n",
    "\n",
    "- `[AB]` matches “A” and “B”\n",
    "- `[A-E]` matches any character “A” through “E”\n",
    "- `[A-Za-z0-9_]` matches any word character (equivalent to \\w)\n"
   ]
  },
  {
   "cell_type": "code",
   "execution_count": 106,
   "metadata": {},
   "outputs": [
    {
     "name": "stdout",
     "output_type": "stream",
     "text": [
      "Checking: Kevin\n",
      "Match:  \"Ke\"\n",
      "\n",
      "Checking: Erik\n",
      "No Match!!\n",
      "\n",
      "Checking: keep\n",
      "Match:  \"ke\"\n",
      "\n",
      "Checking: finicky\n",
      "No Match!!\n",
      "\n",
      "Checking: maker\n",
      "Match:  \"ke\"\n",
      "\n"
     ]
    }
   ],
   "source": [
    "pattern = r\"[kK]e\"\n",
    "check = [\"Kevin\", \"Erik\", \"keep\", \"finicky\", \"maker\"]\n",
    "for c in check:\n",
    "    print(\"Checking:\", c)\n",
    "    print(displaymatch(pattern, c))\n",
    "    print()"
   ]
  },
  {
   "cell_type": "code",
   "execution_count": 178,
   "metadata": {},
   "outputs": [
    {
     "name": "stdout",
     "output_type": "stream",
     "text": [
      "Match 0: \"A\"\n",
      "Match 1: \"A\"\n",
      "Match 2: \"A\"\n",
      "Match 3: \"C\"\n",
      "Match 4: \"G\"\n",
      "Match 5: \"T\"\n"
     ]
    }
   ],
   "source": [
    "pattern = r\"[ACGT]\"\n",
    "check = \"A DNA sequence is represented by the letters A, C, G, and T\"\n",
    "for m in displaymatches(pattern, check):\n",
    "    print(m)"
   ]
  },
  {
   "cell_type": "markdown",
   "metadata": {},
   "source": [
    "### Negation of custom character classes\n",
    "\n",
    "- Negate a character class with an initial `^`\n",
    "- `[^ABC]` matches any character EXCEPT “A” or “B” or “C”\n",
    "- `[^A-E]` matches any character EXCEPT “A” through “E”\n",
    "- `[^A-Za-z0-9_]`matches any character EXCEPT word characters (equivalent to `\\W`)"
   ]
  },
  {
   "cell_type": "code",
   "execution_count": 181,
   "metadata": {},
   "outputs": [
    {
     "data": {
      "text/plain": [
       "' DN sequence is represented by the letters , , , and '"
      ]
     },
     "execution_count": 181,
     "metadata": {},
     "output_type": "execute_result"
    }
   ],
   "source": [
    "pattern = r\"[^ACGT]\"\n",
    "check = \"A DNA sequence is represented by the letters A, C, G, and T\"\n",
    "\"\".join([m[-2] for m in displaymatches(pattern, check)])\n"
   ]
  },
  {
   "cell_type": "markdown",
   "metadata": {},
   "source": [
    "### Boundaries\n",
    "\n",
    "- `^` matches the start of a string (_before_ the first character)\n",
    "- `$` matches the end of a string\n",
    "- `\\b` matches a “word boundary” (beginning/end of a line, whitespace, or a non-word character)"
   ]
  },
  {
   "cell_type": "code",
   "execution_count": 183,
   "metadata": {},
   "outputs": [
    {
     "name": "stdout",
     "output_type": "stream",
     "text": [
      "Match 0: \"ana\"\n"
     ]
    }
   ],
   "source": [
    "for m in displaymatches(r\"^ana\", \"ana, my nana,  ate a banana\"):\n",
    "    print(m)"
   ]
  },
  {
   "cell_type": "code",
   "execution_count": 184,
   "metadata": {},
   "outputs": [
    {
     "name": "stdout",
     "output_type": "stream",
     "text": [
      "Match 0: \"ana\"\n",
      "Match 1: \"ana\"\n",
      "Match 2: \"ana\"\n"
     ]
    }
   ],
   "source": [
    "for m in displaymatches(r\"ana\", \"ana, my nana, ate a banana\"):\n",
    "    print(m) # how many matches do you expect?"
   ]
  },
  {
   "cell_type": "code",
   "execution_count": 185,
   "metadata": {},
   "outputs": [
    {
     "name": "stdout",
     "output_type": "stream",
     "text": [
      "Match 0: \"deer\"\n"
     ]
    }
   ],
   "source": [
    "for m in displaymatches(r\"deer$\", \"Doe, a deer, a female deer\"):\n",
    "    print(m)"
   ]
  },
  {
   "cell_type": "code",
   "execution_count": 186,
   "metadata": {},
   "outputs": [
    {
     "name": "stdout",
     "output_type": "stream",
     "text": [
      "Match 0: \"deer\"\n",
      "Match 1: \"deer\"\n"
     ]
    }
   ],
   "source": [
    "for m in displaymatches(r\"deer\\b\", \"Doe, a deer, a female deer\"):\n",
    "    print(m)"
   ]
  },
  {
   "cell_type": "code",
   "execution_count": 187,
   "metadata": {},
   "outputs": [
    {
     "name": "stdout",
     "output_type": "stream",
     "text": [
      "Match 0: \"ana\"\n"
     ]
    }
   ],
   "source": [
    "for m in displaymatches(r\"\\bana\\b\", \"ana, my nana, ate a banana\"):\n",
    "    print(m)"
   ]
  },
  {
   "cell_type": "markdown",
   "metadata": {},
   "source": [
    "### Repetition\n",
    "\n",
    "- `+`: **one** or more matches of the previous character or group\n",
    "- `*`: **zero** or more matches of the previous character or group\n",
    "- `?`: one **optional** matches of the previous character or group\n",
    "- `{N}`: exactly `N` matches in a row\n",
    "    - `{N,M}`: `N` to `M` matches (inclussive)\n",
    "    - `{N,}`: `N` or more matches\n",
    "    - `{,M}`: `M` or fewer matches"
   ]
  },
  {
   "cell_type": "code",
   "execution_count": 191,
   "metadata": {},
   "outputs": [
    {
     "name": "stdout",
     "output_type": "stream",
     "text": [
      "Pattern: AB+C\n",
      "Checking: AC\n",
      "No Match!!\n",
      "Checking: ABC\n",
      "Match:  \"ABC\"\n",
      "Checking: ABBC\n",
      "Match:  \"ABBC\"\n",
      "\n",
      "Pattern: AB*C\n",
      "Checking: AC\n",
      "Match:  \"AC\"\n",
      "Checking: ABC\n",
      "Match:  \"ABC\"\n",
      "Checking: ABBC\n",
      "Match:  \"ABBC\"\n",
      "\n",
      "Pattern: AB?C\n",
      "Checking: AC\n",
      "Match:  \"AC\"\n",
      "Checking: ABC\n",
      "Match:  \"ABC\"\n",
      "Checking: ABBC\n",
      "No Match!!\n",
      "\n",
      "Pattern: AB{2}C\n",
      "Checking: AC\n",
      "No Match!!\n",
      "Checking: ABC\n",
      "No Match!!\n",
      "Checking: ABBC\n",
      "Match:  \"ABBC\"\n",
      "\n"
     ]
    }
   ],
   "source": [
    "check = [\"AC\", \"ABC\", \"ABBC\"]\n",
    "patterns = [r\"AB+C\", r\"AB*C\", r\"AB?C\", r\"AB{2}C\"]\n",
    "for p in patterns:\n",
    "    print(\"Pattern:\", p)\n",
    "    for c in check:\n",
    "        print(\"Checking:\", c)\n",
    "        print(displaymatch(p, c))\n",
    "    print()"
   ]
  },
  {
   "cell_type": "markdown",
   "metadata": {},
   "source": [
    "### Subpatterns and Groups\n",
    "\n",
    "- Parts of a pattern enclosed in parentheses are grouped\n",
    "- These can be referenced within the pattern itself with `\\\\<group n>`"
   ]
  },
  {
   "cell_type": "code",
   "execution_count": 192,
   "metadata": {},
   "outputs": [
    {
     "name": "stdout",
     "output_type": "stream",
     "text": [
      "Match 0: \"na\"\n",
      "Match 1: \"nana\"\n",
      "Match 2: \"nana\"\n"
     ]
    }
   ],
   "source": [
    "pattern = \"(na)+\"\n",
    "check = \"ana, my nana, ate a banana\"\n",
    "\n",
    "for m in displaymatches(pattern, check):\n",
    "    print(m)"
   ]
  },
  {
   "cell_type": "code",
   "execution_count": 193,
   "metadata": {},
   "outputs": [
    {
     "name": "stdout",
     "output_type": "stream",
     "text": [
      "Match 0: \"nana\"\n",
      "Match 1: \"anan\"\n"
     ]
    }
   ],
   "source": [
    "pattern = \"(..)\\\\1\" # any 2 characters, followed by the same two characters\n",
    "check = \"ana, my nana, ate a banana\"\n",
    "\n",
    "for m in displaymatches(pattern, check):\n",
    "    print(m)"
   ]
  },
  {
   "cell_type": "markdown",
   "metadata": {},
   "source": [
    "### Chosing between multiple patterns\n",
    "\n",
    "- `|` (pipe) behaves as a logical OR\n",
    "- Often combined with parentheses to indicate a choice of sub-patterns"
   ]
  },
  {
   "cell_type": "code",
   "execution_count": 196,
   "metadata": {},
   "outputs": [
    {
     "name": "stdout",
     "output_type": "stream",
     "text": [
      "Checking: my_script.py\n",
      "Match:  \"my_script.py\"\n",
      "Checking: my_script.pyc\n",
      "No Match!!\n",
      "Checking: my_input.txt\n",
      "Match:  \"my_input.txt\"\n",
      "Checking: README.md\n",
      "No Match!!\n",
      "Checking: my_output.txt\n",
      "Match:  \"my_output.txt\"\n",
      "Checking: bad move.txt\n",
      "Match:  \"move.txt\"\n"
     ]
    }
   ],
   "source": [
    "pattern = r\"\\w+\\.(txt|py)\\b\"\n",
    "check = [\"my_script.py\",\n",
    "         \"my_script.pyc\",\n",
    "         \"my_input.txt\",\n",
    "         \"README.md\",\n",
    "         \"my_output.txt\",\n",
    "         \"bad move.txt\"]\n",
    "for c in check:\n",
    "    print(\"Checking:\", c)\n",
    "    print(displaymatch(pattern, c))"
   ]
  },
  {
   "cell_type": "markdown",
   "metadata": {},
   "source": [
    "## Poll: How to identify e-mail addresses?"
   ]
  },
  {
   "cell_type": "code",
   "execution_count": 197,
   "metadata": {},
   "outputs": [
    {
     "data": {
      "text/plain": [
       "[True, True, True, True, True]"
      ]
     },
     "execution_count": 197,
     "metadata": {},
     "output_type": "execute_result"
    }
   ],
   "source": [
    "test_cases = [\n",
    "    \"kbonham@broadinstitute.org\",\n",
    "    \"eric_franzosa@hsph.harvard.edu\",\n",
    "    \"http://www.broadinstitute.org\",\n",
    "    \"My twitter handle: @kevbonham\",\n",
    "    \"My office hours this week @ 1pm\"\n",
    "]\n",
    "\n",
    "def better_isemail(test_string):\n",
    "    pattern = r\"\" # enter your pattern here\n",
    "    if re.search(pattern, test_string):\n",
    "        return True\n",
    "    else:\n",
    "        return False\n",
    "    \n",
    "[better_isemail(c) for c in test_cases]"
   ]
  },
  {
   "cell_type": "code",
   "execution_count": null,
   "metadata": {},
   "outputs": [],
   "source": [
    "hard_cases = [\n",
    "    \"numbers123@example.com\", # TRUE\n",
    "    \"this.is.valid@weird-url.com\", # TRUE\n",
    "    \"kevbonham+commerce@gmail.com\", #TRUE\n",
    "    \"notvalid@notaurl\", # FALSE\n",
    "    \"git@github.com:kescobo/bst273_lecture09.git\" # FALSE\n",
    "]"
   ]
  },
  {
   "cell_type": "markdown",
   "metadata": {},
   "source": [
    "## Miscellaneous gotchas"
   ]
  },
  {
   "cell_type": "markdown",
   "metadata": {},
   "source": [
    "### \"Escaping\" special characters\n",
    "\n",
    "What if you want to match a special character? (`\\`, `[`, `.`, `+` etc)\n",
    "\n",
    "Find what's being added:"
   ]
  },
  {
   "cell_type": "code",
   "execution_count": 200,
   "metadata": {},
   "outputs": [
    {
     "name": "stdout",
     "output_type": "stream",
     "text": [
      "No Match!!\n"
     ]
    }
   ],
   "source": [
    "check = \"2 + 2 = 4\"\n",
    "pattern = r\"\\d + \\d\"\n",
    "print(displaymatch(pattern, check))"
   ]
  },
  {
   "cell_type": "markdown",
   "metadata": {},
   "source": [
    "`r\"\\d + \\d\"` is parsed as:\n",
    "\n",
    "- `\\d`: a digit\n",
    "- ` +`: one or more spaces\n",
    "- ` `: a space\n",
    "- `\\d`: a digit"
   ]
  },
  {
   "cell_type": "code",
   "execution_count": 201,
   "metadata": {},
   "outputs": [
    {
     "name": "stdout",
     "output_type": "stream",
     "text": [
      "Match:  \"2 + 2\"\n"
     ]
    }
   ],
   "source": [
    "pattern = r\"\\d \\+ \\d\"\n",
    "print(displaymatch(pattern, check))"
   ]
  },
  {
   "cell_type": "code",
   "execution_count": 202,
   "metadata": {},
   "outputs": [
    {
     "name": "stdout",
     "output_type": "stream",
     "text": [
      "Match:  \"2 + 3\"\n"
     ]
    }
   ],
   "source": [
    "check = \"42 + 3.14 = 45.14\"\n",
    "print(displaymatch(pattern, check))"
   ]
  },
  {
   "cell_type": "code",
   "execution_count": 204,
   "metadata": {},
   "outputs": [
    {
     "name": "stdout",
     "output_type": "stream",
     "text": [
      "Match:  \"42 + 3.14\"\n"
     ]
    }
   ],
   "source": [
    "pattern = r\"\\d+(.\\d+)? \\+ \\d(.\\d+)?\"\n",
    "print(displaymatch(pattern, check))"
   ]
  },
  {
   "cell_type": "code",
   "execution_count": 205,
   "metadata": {},
   "outputs": [
    {
     "name": "stdout",
     "output_type": "stream",
     "text": [
      "Match:  \"02e23 + 1\"\n"
     ]
    }
   ],
   "source": [
    "check = \"6.02e23 + 1\"\n",
    "print(displaymatch(pattern, check))"
   ]
  },
  {
   "cell_type": "markdown",
   "metadata": {},
   "source": [
    "### Matches don't overlap"
   ]
  },
  {
   "cell_type": "markdown",
   "metadata": {},
   "source": [
    "`\"banana\"` has 2 `\"ana\"` substrings, but they're overlapping"
   ]
  },
  {
   "cell_type": "code",
   "execution_count": 208,
   "metadata": {},
   "outputs": [
    {
     "name": "stdout",
     "output_type": "stream",
     "text": [
      "Match 0: \"ana\"\n"
     ]
    }
   ],
   "source": [
    "for m in displaymatches(\"ana\", \"banana\"):\n",
    "    print(m)"
   ]
  },
  {
   "cell_type": "markdown",
   "metadata": {},
   "source": [
    "This can be overcome with \"lookaheads\", but I'll leave that to you to look up."
   ]
  },
  {
   "cell_type": "markdown",
   "metadata": {},
   "source": []
  }
 ],
 "metadata": {
  "kernelspec": {
   "display_name": "Python 3",
   "language": "python",
   "name": "python3"
  },
  "language_info": {
   "codemirror_mode": {
    "name": "ipython",
    "version": 3
   },
   "file_extension": ".py",
   "mimetype": "text/x-python",
   "name": "python",
   "nbconvert_exporter": "python",
   "pygments_lexer": "ipython3",
   "version": "3.6.5"
  }
 },
 "nbformat": 4,
 "nbformat_minor": 2
}
